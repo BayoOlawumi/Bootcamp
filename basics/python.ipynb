{
 "cells": [
  {
   "cell_type": "code",
   "execution_count": 1,
   "id": "7ee2fd09",
   "metadata": {},
   "outputs": [],
   "source": [
    "class User:\n",
    "    def __init__(self, name, bio):\n",
    "        self.name = name\n",
    "        self.bio = bio\n",
    "\n",
    "    def __str__(self):\n",
    "        return f\"Object: {self.name}\"\n",
    "\n",
    "    def __repr__(self):\n",
    "        return f\"User:{self.name}\""
   ]
  },
  {
   "cell_type": "code",
   "execution_count": 3,
   "id": "6c474310",
   "metadata": {},
   "outputs": [],
   "source": [
    "user = User(\"Bayo\", \"I am an Engineer\")"
   ]
  },
  {
   "cell_type": "code",
   "execution_count": 4,
   "id": "65761587",
   "metadata": {},
   "outputs": [
    {
     "data": {
      "text/plain": [
       "User:Bayo"
      ]
     },
     "execution_count": 4,
     "metadata": {},
     "output_type": "execute_result"
    }
   ],
   "source": [
    "user"
   ]
  },
  {
   "cell_type": "code",
   "execution_count": null,
   "id": "62d4e2ee",
   "metadata": {},
   "outputs": [],
   "source": []
  }
 ],
 "metadata": {
  "kernelspec": {
   "display_name": ".venv",
   "language": "python",
   "name": "python3"
  },
  "language_info": {
   "codemirror_mode": {
    "name": "ipython",
    "version": 3
   },
   "file_extension": ".py",
   "mimetype": "text/x-python",
   "name": "python",
   "nbconvert_exporter": "python",
   "pygments_lexer": "ipython3",
   "version": "3.11.2"
  }
 },
 "nbformat": 4,
 "nbformat_minor": 5
}
