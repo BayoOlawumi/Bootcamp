{
 "cells": [
  {
   "cell_type": "code",
   "execution_count": 14,
   "id": "3f85b4ed",
   "metadata": {},
   "outputs": [],
   "source": [
    "from pydantic import BaseModel, Field\n",
    "from typing import Optional, List"
   ]
  },
  {
   "cell_type": "code",
   "execution_count": 22,
   "id": "91ed66d2",
   "metadata": {},
   "outputs": [],
   "source": [
    "class State(BaseModel):\n",
    "    title: str = Field(min_length=8, max_length=20, description=\"The title of the video\")\n",
    "    fav_numbers: List[int] = Field(min_length=2)\n",
    "    location: Optional[str] = None #Optional with default value\n",
    "    is_recent: Optional[bool] = None #Optional wih default value\n",
    "    email: str= Field(default_factory=lambda: \"user@example.com\", description=\"Default email address\")\n"
   ]
  },
  {
   "cell_type": "code",
   "execution_count": 23,
   "id": "38cfdb68",
   "metadata": {},
   "outputs": [],
   "source": [
    "new_feed = State(title=\"Good to go\", fav_numbers=[23, 45, 34], location=\"Lagos\", email=\"olawumiebayo@gmail.com\")"
   ]
  },
  {
   "cell_type": "code",
   "execution_count": 26,
   "id": "c72a955f",
   "metadata": {},
   "outputs": [
    {
     "data": {
      "text/plain": [
       "{'properties': {'title': {'description': 'The title of the video',\n",
       "   'maxLength': 20,\n",
       "   'minLength': 8,\n",
       "   'title': 'Title',\n",
       "   'type': 'string'},\n",
       "  'fav_numbers': {'items': {'type': 'integer'},\n",
       "   'minItems': 2,\n",
       "   'title': 'Fav Numbers',\n",
       "   'type': 'array'},\n",
       "  'location': {'anyOf': [{'type': 'string'}, {'type': 'null'}],\n",
       "   'default': None,\n",
       "   'title': 'Location'},\n",
       "  'is_recent': {'anyOf': [{'type': 'boolean'}, {'type': 'null'}],\n",
       "   'default': None,\n",
       "   'title': 'Is Recent'},\n",
       "  'email': {'description': 'Default email address',\n",
       "   'title': 'Email',\n",
       "   'type': 'string'}},\n",
       " 'required': ['title', 'fav_numbers'],\n",
       " 'title': 'State',\n",
       " 'type': 'object'}"
      ]
     },
     "execution_count": 26,
     "metadata": {},
     "output_type": "execute_result"
    }
   ],
   "source": [
    "new_feed.model_json_schema()"
   ]
  },
  {
   "cell_type": "code",
   "execution_count": 12,
   "id": "11c8375b",
   "metadata": {},
   "outputs": [
    {
     "name": "stdout",
     "output_type": "stream",
     "text": [
      "1 validation error for State\n",
      "title\n",
      "  Input should be a valid string [type=string_type, input_value=56, input_type=int]\n",
      "    For further information visit https://errors.pydantic.dev/2.11/v/string_type\n"
     ]
    }
   ],
   "source": [
    "try:\n",
    "    invalid_val = State(title=56, fav_numbers=[\"23\", 45], location=\"Lagos\")\n",
    "except ValueError as e:\n",
    "    print(e)"
   ]
  },
  {
   "cell_type": "code",
   "execution_count": null,
   "id": "a058fbb5",
   "metadata": {},
   "outputs": [],
   "source": []
  }
 ],
 "metadata": {
  "kernelspec": {
   "display_name": "Bootcamp",
   "language": "python",
   "name": "python3"
  },
  "language_info": {
   "codemirror_mode": {
    "name": "ipython",
    "version": 3
   },
   "file_extension": ".py",
   "mimetype": "text/x-python",
   "name": "python",
   "nbconvert_exporter": "python",
   "pygments_lexer": "ipython3",
   "version": "3.11.2"
  }
 },
 "nbformat": 4,
 "nbformat_minor": 5
}
